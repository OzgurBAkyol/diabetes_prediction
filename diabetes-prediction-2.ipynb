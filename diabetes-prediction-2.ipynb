{
 "metadata": {
  "kernelspec": {
   "language": "python",
   "display_name": "Python 3",
   "name": "python3"
  },
  "language_info": {
   "name": "python",
   "version": "3.7.12",
   "mimetype": "text/x-python",
   "codemirror_mode": {
    "name": "ipython",
    "version": 3
   },
   "pygments_lexer": "ipython3",
   "nbconvert_exporter": "python",
   "file_extension": ".py"
  },
  "kaggle": {
   "accelerator": "none",
   "dataSources": [
    {
     "sourceId": 1377145,
     "sourceType": "datasetVersion",
     "datasetId": 803225
    }
   ],
   "dockerImageVersionId": 30197,
   "isInternetEnabled": true,
   "language": "python",
   "sourceType": "notebook",
   "isGpuEnabled": false
  }
 },
 "nbformat_minor": 4,
 "nbformat": 4,
 "cells": [
  {
   "cell_type": "code",
   "source": [
    "\n",
    "\n",
    "import numpy as np\n",
    "import pandas as pd\n",
    "import seaborn as sns\n",
    "from sklearn.preprocessing import StandardScaler\n",
    "from sklearn.model_selection import train_test_split\n",
    "from sklearn import svm\n",
    "from sklearn.metrics import accuracy_score\n"
   ],
   "metadata": {
    "_uuid": "8f2839f25d086af736a60e9eeb907d3b93b6e0e5",
    "_cell_guid": "b1076dfc-b9ad-4769-8c92-a6c4dae69d19",
    "trusted": true,
    "execution": {
     "iopub.status.busy": "2025-03-19T13:09:06.364520Z",
     "iopub.execute_input": "2025-03-19T13:09:06.364906Z",
     "iopub.status.idle": "2025-03-19T13:09:06.375256Z",
     "shell.execute_reply.started": "2025-03-19T13:09:06.364876Z",
     "shell.execute_reply": "2025-03-19T13:09:06.373848Z"
    }
   },
   "outputs": [
    {
     "name": "stdout",
     "text": "/kaggle/input/docspot/datasets_228_482_diabetes.csv\n",
     "output_type": "stream"
    }
   ],
   "execution_count": 24
  },
  {
   "cell_type": "markdown",
   "source": "Introduction\n\n1.)[Data Collection and Analysis](#1)\n\n2.)[Separating the label](#2)\n\n3.)[Data standardization](#3)\n\n4.)[Train Test Split](#4)\n\n5.)[Training the Model](#5)\n\n6.)[ Model Evaluation](#6)\n\n7.)[Predictive system](#7)",
   "metadata": {}
  },
  {
   "cell_type": "markdown",
   "source": "<a id =\"1\"></a>\n# Data Collection and Analysis",
   "metadata": {}
  },
  {
   "cell_type": "markdown",
   "source": "The dataset basically contains the informations of patients who has diabetes and who doesn't.It contains the data of females.There won't be any data for males.Various parameters Number of pregnancy they have gone through, their blood glucose, level insulin etc. are some of the fetures dataset contains.",
   "metadata": {}
  },
  {
   "cell_type": "code",
   "source": [
    "#Loading the dataset\n",
    "dia_df = pd.read_csv(\"datasets_228_482_diabetes.csv\")"
   ],
   "metadata": {
    "trusted": true,
    "execution": {
     "iopub.status.busy": "2025-03-19T13:09:06.377238Z",
     "iopub.execute_input": "2025-03-19T13:09:06.377618Z",
     "iopub.status.idle": "2025-03-19T13:09:06.396416Z",
     "shell.execute_reply.started": "2025-03-19T13:09:06.377586Z",
     "shell.execute_reply": "2025-03-19T13:09:06.395075Z"
    }
   },
   "outputs": [],
   "execution_count": 25
  },
  {
   "cell_type": "code",
   "source": "dia_df.head()",
   "metadata": {
    "trusted": true,
    "execution": {
     "iopub.status.busy": "2025-03-19T13:09:06.398424Z",
     "iopub.execute_input": "2025-03-19T13:09:06.399464Z",
     "iopub.status.idle": "2025-03-19T13:09:06.415458Z",
     "shell.execute_reply.started": "2025-03-19T13:09:06.399412Z",
     "shell.execute_reply": "2025-03-19T13:09:06.414334Z"
    }
   },
   "outputs": [
    {
     "execution_count": 26,
     "output_type": "execute_result",
     "data": {
      "text/plain": "   Pregnancies  Glucose  BloodPressure  SkinThickness  Insulin   BMI  \\\n0            6      148             72             35        0  33.6   \n1            1       85             66             29        0  26.6   \n2            8      183             64              0        0  23.3   \n3            1       89             66             23       94  28.1   \n4            0      137             40             35      168  43.1   \n\n   DiabetesPedigreeFunction  Age  Outcome  \n0                     0.627   50        1  \n1                     0.351   31        0  \n2                     0.672   32        1  \n3                     0.167   21        0  \n4                     2.288   33        1  ",
      "text/html": "<div>\n<style scoped>\n    .dataframe tbody tr th:only-of-type {\n        vertical-align: middle;\n    }\n\n    .dataframe tbody tr th {\n        vertical-align: top;\n    }\n\n    .dataframe thead th {\n        text-align: right;\n    }\n</style>\n<table border=\"1\" class=\"dataframe\">\n  <thead>\n    <tr style=\"text-align: right;\">\n      <th></th>\n      <th>Pregnancies</th>\n      <th>Glucose</th>\n      <th>BloodPressure</th>\n      <th>SkinThickness</th>\n      <th>Insulin</th>\n      <th>BMI</th>\n      <th>DiabetesPedigreeFunction</th>\n      <th>Age</th>\n      <th>Outcome</th>\n    </tr>\n  </thead>\n  <tbody>\n    <tr>\n      <th>0</th>\n      <td>6</td>\n      <td>148</td>\n      <td>72</td>\n      <td>35</td>\n      <td>0</td>\n      <td>33.6</td>\n      <td>0.627</td>\n      <td>50</td>\n      <td>1</td>\n    </tr>\n    <tr>\n      <th>1</th>\n      <td>1</td>\n      <td>85</td>\n      <td>66</td>\n      <td>29</td>\n      <td>0</td>\n      <td>26.6</td>\n      <td>0.351</td>\n      <td>31</td>\n      <td>0</td>\n    </tr>\n    <tr>\n      <th>2</th>\n      <td>8</td>\n      <td>183</td>\n      <td>64</td>\n      <td>0</td>\n      <td>0</td>\n      <td>23.3</td>\n      <td>0.672</td>\n      <td>32</td>\n      <td>1</td>\n    </tr>\n    <tr>\n      <th>3</th>\n      <td>1</td>\n      <td>89</td>\n      <td>66</td>\n      <td>23</td>\n      <td>94</td>\n      <td>28.1</td>\n      <td>0.167</td>\n      <td>21</td>\n      <td>0</td>\n    </tr>\n    <tr>\n      <th>4</th>\n      <td>0</td>\n      <td>137</td>\n      <td>40</td>\n      <td>35</td>\n      <td>168</td>\n      <td>43.1</td>\n      <td>2.288</td>\n      <td>33</td>\n      <td>1</td>\n    </tr>\n  </tbody>\n</table>\n</div>"
     },
     "metadata": {}
    }
   ],
   "execution_count": 26
  },
  {
   "cell_type": "markdown",
   "source": "* As you can see we have several features and the results.Pregnancies, glucosei blood pressure,skin thickness(taken from the triceps and basically tells us whether fat is strored in that particular muscle or not), insulin level, BMI(Body Mass Index, calculating by dividing the weight by height square), DiabetesPedigreeFunction(Number which indicates some diabetic value), age and outcome.The outcome part is our label.\n* One represents the patient is diabetic and the zero represents the patient is non-diabetic.\n* So we need to develop a system that can classify this data to either one or zero.",
   "metadata": {}
  },
  {
   "cell_type": "code",
   "source": "dia_df.shape",
   "metadata": {
    "trusted": true,
    "execution": {
     "iopub.status.busy": "2025-03-19T13:09:06.417298Z",
     "iopub.execute_input": "2025-03-19T13:09:06.417813Z",
     "iopub.status.idle": "2025-03-19T13:09:06.429385Z",
     "shell.execute_reply.started": "2025-03-19T13:09:06.417762Z",
     "shell.execute_reply": "2025-03-19T13:09:06.428173Z"
    }
   },
   "outputs": [
    {
     "execution_count": 27,
     "output_type": "execute_result",
     "data": {
      "text/plain": "(768, 9)"
     },
     "metadata": {}
    }
   ],
   "execution_count": 27
  },
  {
   "cell_type": "markdown",
   "source": "* As you can see we have 768 rows and 9 columns, that means the data is collect from 768 people.\n* Now let's get some statistical measures of this data frame.",
   "metadata": {}
  },
  {
   "cell_type": "code",
   "source": "dia_df.describe()",
   "metadata": {
    "trusted": true,
    "execution": {
     "iopub.status.busy": "2025-03-19T13:09:06.431463Z",
     "iopub.execute_input": "2025-03-19T13:09:06.431943Z",
     "iopub.status.idle": "2025-03-19T13:09:06.475799Z",
     "shell.execute_reply.started": "2025-03-19T13:09:06.431907Z",
     "shell.execute_reply": "2025-03-19T13:09:06.474686Z"
    }
   },
   "outputs": [
    {
     "execution_count": 28,
     "output_type": "execute_result",
     "data": {
      "text/plain": "       Pregnancies     Glucose  BloodPressure  SkinThickness     Insulin  \\\ncount   768.000000  768.000000     768.000000     768.000000  768.000000   \nmean      3.845052  120.894531      69.105469      20.536458   79.799479   \nstd       3.369578   31.972618      19.355807      15.952218  115.244002   \nmin       0.000000    0.000000       0.000000       0.000000    0.000000   \n25%       1.000000   99.000000      62.000000       0.000000    0.000000   \n50%       3.000000  117.000000      72.000000      23.000000   30.500000   \n75%       6.000000  140.250000      80.000000      32.000000  127.250000   \nmax      17.000000  199.000000     122.000000      99.000000  846.000000   \n\n              BMI  DiabetesPedigreeFunction         Age     Outcome  \ncount  768.000000                768.000000  768.000000  768.000000  \nmean    31.992578                  0.471876   33.240885    0.348958  \nstd      7.884160                  0.331329   11.760232    0.476951  \nmin      0.000000                  0.078000   21.000000    0.000000  \n25%     27.300000                  0.243750   24.000000    0.000000  \n50%     32.000000                  0.372500   29.000000    0.000000  \n75%     36.600000                  0.626250   41.000000    1.000000  \nmax     67.100000                  2.420000   81.000000    1.000000  ",
      "text/html": "<div>\n<style scoped>\n    .dataframe tbody tr th:only-of-type {\n        vertical-align: middle;\n    }\n\n    .dataframe tbody tr th {\n        vertical-align: top;\n    }\n\n    .dataframe thead th {\n        text-align: right;\n    }\n</style>\n<table border=\"1\" class=\"dataframe\">\n  <thead>\n    <tr style=\"text-align: right;\">\n      <th></th>\n      <th>Pregnancies</th>\n      <th>Glucose</th>\n      <th>BloodPressure</th>\n      <th>SkinThickness</th>\n      <th>Insulin</th>\n      <th>BMI</th>\n      <th>DiabetesPedigreeFunction</th>\n      <th>Age</th>\n      <th>Outcome</th>\n    </tr>\n  </thead>\n  <tbody>\n    <tr>\n      <th>count</th>\n      <td>768.000000</td>\n      <td>768.000000</td>\n      <td>768.000000</td>\n      <td>768.000000</td>\n      <td>768.000000</td>\n      <td>768.000000</td>\n      <td>768.000000</td>\n      <td>768.000000</td>\n      <td>768.000000</td>\n    </tr>\n    <tr>\n      <th>mean</th>\n      <td>3.845052</td>\n      <td>120.894531</td>\n      <td>69.105469</td>\n      <td>20.536458</td>\n      <td>79.799479</td>\n      <td>31.992578</td>\n      <td>0.471876</td>\n      <td>33.240885</td>\n      <td>0.348958</td>\n    </tr>\n    <tr>\n      <th>std</th>\n      <td>3.369578</td>\n      <td>31.972618</td>\n      <td>19.355807</td>\n      <td>15.952218</td>\n      <td>115.244002</td>\n      <td>7.884160</td>\n      <td>0.331329</td>\n      <td>11.760232</td>\n      <td>0.476951</td>\n    </tr>\n    <tr>\n      <th>min</th>\n      <td>0.000000</td>\n      <td>0.000000</td>\n      <td>0.000000</td>\n      <td>0.000000</td>\n      <td>0.000000</td>\n      <td>0.000000</td>\n      <td>0.078000</td>\n      <td>21.000000</td>\n      <td>0.000000</td>\n    </tr>\n    <tr>\n      <th>25%</th>\n      <td>1.000000</td>\n      <td>99.000000</td>\n      <td>62.000000</td>\n      <td>0.000000</td>\n      <td>0.000000</td>\n      <td>27.300000</td>\n      <td>0.243750</td>\n      <td>24.000000</td>\n      <td>0.000000</td>\n    </tr>\n    <tr>\n      <th>50%</th>\n      <td>3.000000</td>\n      <td>117.000000</td>\n      <td>72.000000</td>\n      <td>23.000000</td>\n      <td>30.500000</td>\n      <td>32.000000</td>\n      <td>0.372500</td>\n      <td>29.000000</td>\n      <td>0.000000</td>\n    </tr>\n    <tr>\n      <th>75%</th>\n      <td>6.000000</td>\n      <td>140.250000</td>\n      <td>80.000000</td>\n      <td>32.000000</td>\n      <td>127.250000</td>\n      <td>36.600000</td>\n      <td>0.626250</td>\n      <td>41.000000</td>\n      <td>1.000000</td>\n    </tr>\n    <tr>\n      <th>max</th>\n      <td>17.000000</td>\n      <td>199.000000</td>\n      <td>122.000000</td>\n      <td>99.000000</td>\n      <td>846.000000</td>\n      <td>67.100000</td>\n      <td>2.420000</td>\n      <td>81.000000</td>\n      <td>1.000000</td>\n    </tr>\n  </tbody>\n</table>\n</div>"
     },
     "metadata": {}
    }
   ],
   "execution_count": 28
  },
  {
   "cell_type": "markdown",
   "source": "* Now let's see how many case of examples for diabetic and non-diabetic examples\n",
   "metadata": {}
  },
  {
   "cell_type": "code",
   "source": "dia_df[\"Outcome\"].value_counts()",
   "metadata": {
    "trusted": true,
    "execution": {
     "iopub.status.busy": "2025-03-19T13:09:06.477035Z",
     "iopub.execute_input": "2025-03-19T13:09:06.477381Z",
     "iopub.status.idle": "2025-03-19T13:09:06.486399Z",
     "shell.execute_reply.started": "2025-03-19T13:09:06.477351Z",
     "shell.execute_reply": "2025-03-19T13:09:06.485125Z"
    }
   },
   "outputs": [
    {
     "execution_count": 29,
     "output_type": "execute_result",
     "data": {
      "text/plain": "0    500\n1    268\nName: Outcome, dtype: int64"
     },
     "metadata": {}
    }
   ],
   "execution_count": 29
  },
  {
   "cell_type": "markdown",
   "source": "* We have 500 non-diabetic and 269 diabetic patients in our dataset.\n* The label 0 represents non-diabetic.\n* The label 1 represents diabetic.\n* Now we can try to get the mean for all this label zero and one.",
   "metadata": {}
  },
  {
   "cell_type": "code",
   "source": "dia_df.groupby(\"Outcome\").mean()",
   "metadata": {
    "trusted": true,
    "execution": {
     "iopub.status.busy": "2025-03-19T13:09:06.488058Z",
     "iopub.execute_input": "2025-03-19T13:09:06.488568Z",
     "iopub.status.idle": "2025-03-19T13:09:06.513596Z",
     "shell.execute_reply.started": "2025-03-19T13:09:06.488519Z",
     "shell.execute_reply": "2025-03-19T13:09:06.512311Z"
    }
   },
   "outputs": [
    {
     "execution_count": 30,
     "output_type": "execute_result",
     "data": {
      "text/plain": "         Pregnancies     Glucose  BloodPressure  SkinThickness     Insulin  \\\nOutcome                                                                      \n0           3.298000  109.980000      68.184000      19.664000   68.792000   \n1           4.865672  141.257463      70.824627      22.164179  100.335821   \n\n               BMI  DiabetesPedigreeFunction        Age  \nOutcome                                                  \n0        30.304200                  0.429734  31.190000  \n1        35.142537                  0.550500  37.067164  ",
      "text/html": "<div>\n<style scoped>\n    .dataframe tbody tr th:only-of-type {\n        vertical-align: middle;\n    }\n\n    .dataframe tbody tr th {\n        vertical-align: top;\n    }\n\n    .dataframe thead th {\n        text-align: right;\n    }\n</style>\n<table border=\"1\" class=\"dataframe\">\n  <thead>\n    <tr style=\"text-align: right;\">\n      <th></th>\n      <th>Pregnancies</th>\n      <th>Glucose</th>\n      <th>BloodPressure</th>\n      <th>SkinThickness</th>\n      <th>Insulin</th>\n      <th>BMI</th>\n      <th>DiabetesPedigreeFunction</th>\n      <th>Age</th>\n    </tr>\n    <tr>\n      <th>Outcome</th>\n      <th></th>\n      <th></th>\n      <th></th>\n      <th></th>\n      <th></th>\n      <th></th>\n      <th></th>\n      <th></th>\n    </tr>\n  </thead>\n  <tbody>\n    <tr>\n      <th>0</th>\n      <td>3.298000</td>\n      <td>109.980000</td>\n      <td>68.184000</td>\n      <td>19.664000</td>\n      <td>68.792000</td>\n      <td>30.304200</td>\n      <td>0.429734</td>\n      <td>31.190000</td>\n    </tr>\n    <tr>\n      <th>1</th>\n      <td>4.865672</td>\n      <td>141.257463</td>\n      <td>70.824627</td>\n      <td>22.164179</td>\n      <td>100.335821</td>\n      <td>35.142537</td>\n      <td>0.550500</td>\n      <td>37.067164</td>\n    </tr>\n  </tbody>\n</table>\n</div>"
     },
     "metadata": {}
    }
   ],
   "execution_count": 30
  },
  {
   "cell_type": "markdown",
   "source": "* This will give us mean values for both of them.ü\n* We can see that the diabetic people have more glucose level on their blood.\n* This feature could be important for us because this is what our machine learning algorithm will see.\n* You can also see the age mean, and the Insulin level.It's obvious.\n* It's a good practice that we take the mean to see the bigger picture.",
   "metadata": {}
  },
  {
   "cell_type": "markdown",
   "source": "<a id =\"2\"></a>\n# Separating the label\n* Let's separate this data and label(\"Outcome\").We want all this data except the Outcome label in one particular location and we want the Outcome label separately.",
   "metadata": {}
  },
  {
   "cell_type": "code",
   "source": [
    "x = dia_df.drop(columns = \"Outcome\" , axis = 1)\n",
    "y = dia_df[\"Outcome\"]"
   ],
   "metadata": {
    "trusted": true,
    "execution": {
     "iopub.status.busy": "2025-03-19T13:09:06.515063Z",
     "iopub.execute_input": "2025-03-19T13:09:06.515442Z",
     "iopub.status.idle": "2025-03-19T13:09:06.528165Z",
     "shell.execute_reply.started": "2025-03-19T13:09:06.515411Z",
     "shell.execute_reply": "2025-03-19T13:09:06.527065Z"
    }
   },
   "outputs": [],
   "execution_count": 31
  },
  {
   "cell_type": "code",
   "source": "print(x)\n",
   "metadata": {
    "trusted": true,
    "execution": {
     "iopub.status.busy": "2025-03-19T13:09:06.529736Z",
     "iopub.execute_input": "2025-03-19T13:09:06.530218Z",
     "iopub.status.idle": "2025-03-19T13:09:06.548068Z",
     "shell.execute_reply.started": "2025-03-19T13:09:06.530186Z",
     "shell.execute_reply": "2025-03-19T13:09:06.546690Z"
    }
   },
   "outputs": [
    {
     "name": "stdout",
     "text": "     Pregnancies  Glucose  BloodPressure  SkinThickness  Insulin   BMI  \\\n0              6      148             72             35        0  33.6   \n1              1       85             66             29        0  26.6   \n2              8      183             64              0        0  23.3   \n3              1       89             66             23       94  28.1   \n4              0      137             40             35      168  43.1   \n..           ...      ...            ...            ...      ...   ...   \n763           10      101             76             48      180  32.9   \n764            2      122             70             27        0  36.8   \n765            5      121             72             23      112  26.2   \n766            1      126             60              0        0  30.1   \n767            1       93             70             31        0  30.4   \n\n     DiabetesPedigreeFunction  Age  \n0                       0.627   50  \n1                       0.351   31  \n2                       0.672   32  \n3                       0.167   21  \n4                       2.288   33  \n..                        ...  ...  \n763                     0.171   63  \n764                     0.340   27  \n765                     0.245   30  \n766                     0.349   47  \n767                     0.315   23  \n\n[768 rows x 8 columns]\n",
     "output_type": "stream"
    }
   ],
   "execution_count": 32
  },
  {
   "cell_type": "code",
   "source": "print(y)",
   "metadata": {
    "trusted": true,
    "execution": {
     "iopub.status.busy": "2025-03-19T13:09:06.551615Z",
     "iopub.execute_input": "2025-03-19T13:09:06.552485Z",
     "iopub.status.idle": "2025-03-19T13:09:06.563500Z",
     "shell.execute_reply.started": "2025-03-19T13:09:06.552431Z",
     "shell.execute_reply": "2025-03-19T13:09:06.562000Z"
    }
   },
   "outputs": [
    {
     "name": "stdout",
     "text": "0      1\n1      0\n2      1\n3      0\n4      1\n      ..\n763    0\n764    0\n765    0\n766    1\n767    0\nName: Outcome, Length: 768, dtype: int64\n",
     "output_type": "stream"
    }
   ],
   "execution_count": 33
  },
  {
   "cell_type": "markdown",
   "source": "<a id =\"3\"></a>\n# Data standardization\n* So why we're doing this, you can see that every feature is in a range.If there is a difference in the range of all this values, it will be difficult for our machine learning model to make prediction.What we will do is that we will standardize the data in a particular range that helps our machine learning to make better predictions.\n* At importing libraries we did import a function called standard scaler , so we're going to use that.",
   "metadata": {}
  },
  {
   "cell_type": "code",
   "source": "scaler = StandardScaler()",
   "metadata": {
    "trusted": true,
    "execution": {
     "iopub.status.busy": "2025-03-19T13:09:06.565202Z",
     "iopub.execute_input": "2025-03-19T13:09:06.565675Z",
     "iopub.status.idle": "2025-03-19T13:09:06.577547Z",
     "shell.execute_reply.started": "2025-03-19T13:09:06.565638Z",
     "shell.execute_reply": "2025-03-19T13:09:06.576326Z"
    }
   },
   "outputs": [],
   "execution_count": 34
  },
  {
   "cell_type": "code",
   "source": "# Now we need to fit this dtaa in this scaler.\nscaler.fit(x)",
   "metadata": {
    "trusted": true,
    "execution": {
     "iopub.status.busy": "2025-03-19T13:09:06.579156Z",
     "iopub.execute_input": "2025-03-19T13:09:06.579636Z",
     "iopub.status.idle": "2025-03-19T13:09:06.593410Z",
     "shell.execute_reply.started": "2025-03-19T13:09:06.579590Z",
     "shell.execute_reply": "2025-03-19T13:09:06.592162Z"
    }
   },
   "outputs": [
    {
     "execution_count": 35,
     "output_type": "execute_result",
     "data": {
      "text/plain": "StandardScaler()"
     },
     "metadata": {}
    }
   ],
   "execution_count": 35
  },
  {
   "cell_type": "code",
   "source": "# Now we need to transform this data, for this we'll create another variable\nstand_data = scaler.transform(x)",
   "metadata": {
    "trusted": true,
    "execution": {
     "iopub.status.busy": "2025-03-19T13:09:06.609611Z",
     "iopub.execute_input": "2025-03-19T13:09:06.610023Z",
     "iopub.status.idle": "2025-03-19T13:09:06.617765Z",
     "shell.execute_reply.started": "2025-03-19T13:09:06.609987Z",
     "shell.execute_reply": "2025-03-19T13:09:06.616485Z"
    }
   },
   "outputs": [],
   "execution_count": 36
  },
  {
   "cell_type": "markdown",
   "source": "* Basically what we are doing is we are fitting all these inconsistent data with our standart scaler function and based on that standardization we are transforming all the data to a common range.\n* Instead of using this fit and transform seperately you can do both in one line",
   "metadata": {}
  },
  {
   "cell_type": "code",
   "source": "print(stand_data)",
   "metadata": {
    "trusted": true,
    "execution": {
     "iopub.status.busy": "2025-03-19T13:09:06.651497Z",
     "iopub.execute_input": "2025-03-19T13:09:06.651913Z",
     "iopub.status.idle": "2025-03-19T13:09:06.658547Z",
     "shell.execute_reply.started": "2025-03-19T13:09:06.651882Z",
     "shell.execute_reply": "2025-03-19T13:09:06.657177Z"
    }
   },
   "outputs": [
    {
     "name": "stdout",
     "text": "[[ 0.63994726  0.84832379  0.14964075 ...  0.20401277  0.46849198\n   1.4259954 ]\n [-0.84488505 -1.12339636 -0.16054575 ... -0.68442195 -0.36506078\n  -0.19067191]\n [ 1.23388019  1.94372388 -0.26394125 ... -1.10325546  0.60439732\n  -0.10558415]\n ...\n [ 0.3429808   0.00330087  0.14964075 ... -0.73518964 -0.68519336\n  -0.27575966]\n [-0.84488505  0.1597866  -0.47073225 ... -0.24020459 -0.37110101\n   1.17073215]\n [-0.84488505 -0.8730192   0.04624525 ... -0.20212881 -0.47378505\n  -0.87137393]]\n",
     "output_type": "stream"
    }
   ],
   "execution_count": 37
  },
  {
   "cell_type": "markdown",
   "source": "* As you can see all the values are in the range.",
   "metadata": {}
  },
  {
   "cell_type": "code",
   "source": "# Now we can make this simple by giving this standardized data to x again\nx = stand_data",
   "metadata": {
    "trusted": true,
    "execution": {
     "iopub.status.busy": "2025-03-19T13:09:06.660486Z",
     "iopub.execute_input": "2025-03-19T13:09:06.660927Z",
     "iopub.status.idle": "2025-03-19T13:09:06.671026Z",
     "shell.execute_reply.started": "2025-03-19T13:09:06.660891Z",
     "shell.execute_reply": "2025-03-19T13:09:06.669913Z"
    }
   },
   "outputs": [],
   "execution_count": 38
  },
  {
   "cell_type": "code",
   "source": "print(x)\nprint(y)",
   "metadata": {
    "trusted": true,
    "execution": {
     "iopub.status.busy": "2025-03-19T13:09:06.672420Z",
     "iopub.execute_input": "2025-03-19T13:09:06.672759Z",
     "iopub.status.idle": "2025-03-19T13:09:06.685413Z",
     "shell.execute_reply.started": "2025-03-19T13:09:06.672718Z",
     "shell.execute_reply": "2025-03-19T13:09:06.684203Z"
    }
   },
   "outputs": [
    {
     "name": "stdout",
     "text": "[[ 0.63994726  0.84832379  0.14964075 ...  0.20401277  0.46849198\n   1.4259954 ]\n [-0.84488505 -1.12339636 -0.16054575 ... -0.68442195 -0.36506078\n  -0.19067191]\n [ 1.23388019  1.94372388 -0.26394125 ... -1.10325546  0.60439732\n  -0.10558415]\n ...\n [ 0.3429808   0.00330087  0.14964075 ... -0.73518964 -0.68519336\n  -0.27575966]\n [-0.84488505  0.1597866  -0.47073225 ... -0.24020459 -0.37110101\n   1.17073215]\n [-0.84488505 -0.8730192   0.04624525 ... -0.20212881 -0.47378505\n  -0.87137393]]\n0      1\n1      0\n2      1\n3      0\n4      1\n      ..\n763    0\n764    0\n765    0\n766    1\n767    0\nName: Outcome, Length: 768, dtype: int64\n",
     "output_type": "stream"
    }
   ],
   "execution_count": 39
  },
  {
   "cell_type": "markdown",
   "source": "<a id =\"4\"></a>\n# Train Test Split",
   "metadata": {}
  },
  {
   "cell_type": "code",
   "source": "x_train, x_test , y_train, y_test = train_test_split(x,y,test_size = 0.2,stratify = y,random_state = 31)",
   "metadata": {
    "trusted": true,
    "execution": {
     "iopub.status.busy": "2025-03-19T13:09:06.687304Z",
     "iopub.execute_input": "2025-03-19T13:09:06.687839Z",
     "iopub.status.idle": "2025-03-19T13:09:06.699948Z",
     "shell.execute_reply.started": "2025-03-19T13:09:06.687795Z",
     "shell.execute_reply": "2025-03-19T13:09:06.698697Z"
    }
   },
   "outputs": [],
   "execution_count": 40
  },
  {
   "cell_type": "code",
   "source": "# Let's check the shapes\nprint(x.shape, x_train.shape, x_test.shape)",
   "metadata": {
    "trusted": true,
    "execution": {
     "iopub.status.busy": "2025-03-19T13:09:06.701959Z",
     "iopub.execute_input": "2025-03-19T13:09:06.702361Z",
     "iopub.status.idle": "2025-03-19T13:09:06.722061Z",
     "shell.execute_reply.started": "2025-03-19T13:09:06.702329Z",
     "shell.execute_reply": "2025-03-19T13:09:06.720802Z"
    }
   },
   "outputs": [
    {
     "name": "stdout",
     "text": "(768, 8) (614, 8) (154, 8)\n",
     "output_type": "stream"
    }
   ],
   "execution_count": 41
  },
  {
   "cell_type": "markdown",
   "source": "<a id =\"5\"></a>\n# Training the Model\n",
   "metadata": {}
  },
  {
   "cell_type": "code",
   "source": "classifier = svm.SVC(kernel = \"linear\")",
   "metadata": {
    "trusted": true,
    "execution": {
     "iopub.status.busy": "2025-03-19T13:09:06.723582Z",
     "iopub.execute_input": "2025-03-19T13:09:06.723934Z",
     "iopub.status.idle": "2025-03-19T13:09:06.737474Z",
     "shell.execute_reply.started": "2025-03-19T13:09:06.723904Z",
     "shell.execute_reply": "2025-03-19T13:09:06.736327Z"
    }
   },
   "outputs": [],
   "execution_count": 42
  },
  {
   "cell_type": "code",
   "source": "#training the support vector machine classifier\nclassifier.fit(x_train,y_train)",
   "metadata": {
    "trusted": true,
    "execution": {
     "iopub.status.busy": "2025-03-19T13:09:06.738845Z",
     "iopub.execute_input": "2025-03-19T13:09:06.739247Z",
     "iopub.status.idle": "2025-03-19T13:09:06.771490Z",
     "shell.execute_reply.started": "2025-03-19T13:09:06.739213Z",
     "shell.execute_reply": "2025-03-19T13:09:06.770276Z"
    }
   },
   "outputs": [
    {
     "execution_count": 43,
     "output_type": "execute_result",
     "data": {
      "text/plain": "SVC(kernel='linear')"
     },
     "metadata": {}
    }
   ],
   "execution_count": 43
  },
  {
   "cell_type": "markdown",
   "source": "<a id =\"6\"></a>\n# Model Evaluation",
   "metadata": {}
  },
  {
   "cell_type": "markdown",
   "source": "First we will find the accuracy score on training data",
   "metadata": {}
  },
  {
   "cell_type": "code",
   "source": "# accuracy score on the training data\nx_train_pred = classifier.predict(x_train)\nx_train_accurcy = accuracy_score(x_train_pred, y_train)\nprint(\"Accuracy score of the train data : \" , x_train_accurcy)",
   "metadata": {
    "trusted": true,
    "execution": {
     "iopub.status.busy": "2025-03-19T13:09:06.772831Z",
     "iopub.execute_input": "2025-03-19T13:09:06.773228Z",
     "iopub.status.idle": "2025-03-19T13:09:06.787011Z",
     "shell.execute_reply.started": "2025-03-19T13:09:06.773195Z",
     "shell.execute_reply": "2025-03-19T13:09:06.785769Z"
    }
   },
   "outputs": [
    {
     "name": "stdout",
     "text": "Accuracy score of the train data :  0.7768729641693811\n",
     "output_type": "stream"
    }
   ],
   "execution_count": 44
  },
  {
   "cell_type": "markdown",
   "source": "Now we need to find the accuracy score on test data.",
   "metadata": {}
  },
  {
   "cell_type": "code",
   "source": "# accuracy score on the test data\nx_test_pred = classifier.predict(x_test)\nx_test_accurcy = accuracy_score(x_test_pred, y_test)\nprint(\"Accuracy score of the test data : \" , x_test_accurcy)",
   "metadata": {
    "trusted": true,
    "execution": {
     "iopub.status.busy": "2025-03-19T13:09:06.788445Z",
     "iopub.execute_input": "2025-03-19T13:09:06.788812Z",
     "iopub.status.idle": "2025-03-19T13:09:06.797594Z",
     "shell.execute_reply.started": "2025-03-19T13:09:06.788780Z",
     "shell.execute_reply": "2025-03-19T13:09:06.796566Z"
    }
   },
   "outputs": [
    {
     "name": "stdout",
     "text": "Accuracy score of the test data :  0.7727272727272727\n",
     "output_type": "stream"
    }
   ],
   "execution_count": 45
  },
  {
   "cell_type": "markdown",
   "source": "<a id =\"7\"></a>\n# Predictive system\nOnce we give the data our machine learning model will tell whether the person is diabetic or non-diabetic.\n",
   "metadata": {}
  },
  {
   "cell_type": "code",
   "source": "input_data = (5,166,72,19,175,25.8,0.587,51)\n\n#We have to change this input data into numpy array\ninput_data_numpy = np.asarray(input_data)\n\n#we need to reshape this data\ninput_data_reshaped = input_data_numpy.reshape(1,-1)\n\n#Since we standardize our training data before model, we need to standardize this data also\nstd_data = scaler.transform(input_data_reshaped)\nprint(std_data)\n\nprediction = classifier.predict(std_data)\nprint(prediction)\n\nif (prediction[0] == 0):\n    print(\"The person is non-diabetic\")\nelse:\n    print(\"The person is diabetic\")",
   "metadata": {
    "trusted": true,
    "execution": {
     "iopub.status.busy": "2025-03-19T13:09:06.798903Z",
     "iopub.execute_input": "2025-03-19T13:09:06.799269Z",
     "iopub.status.idle": "2025-03-19T13:09:06.813621Z",
     "shell.execute_reply.started": "2025-03-19T13:09:06.799238Z",
     "shell.execute_reply": "2025-03-19T13:09:06.812336Z"
    }
   },
   "outputs": [
    {
     "name": "stdout",
     "text": "[[ 0.3429808   1.41167241  0.14964075 -0.09637905  0.82661621 -0.78595734\n   0.34768723  1.51108316]]\n[1]\nThe person is diabetic\n",
     "output_type": "stream"
    },
    {
     "name": "stderr",
     "text": "/opt/conda/lib/python3.7/site-packages/sklearn/base.py:451: UserWarning: X does not have valid feature names, but StandardScaler was fitted with feature names\n  \"X does not have valid feature names, but\"\n",
     "output_type": "stream"
    }
   ],
   "execution_count": 46
  },
  {
   "cell_type": "markdown",
   "source": "The idea behind the reshaping is that we feed our model with 768 data and it's expecting 768 data, we tell our model that we are giving only one data and wait for a predict.",
   "metadata": {}
  }
 ]
}
